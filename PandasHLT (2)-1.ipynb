{
 "cells": [
  {
   "cell_type": "code",
   "execution_count": 1,
   "metadata": {},
   "outputs": [],
   "source": [
    "import pandas as pd"
   ]
  },
  {
   "cell_type": "code",
   "execution_count": 2,
   "metadata": {},
   "outputs": [],
   "source": [
    "holiday_file = pd.read_csv(\"Book1.csv\")"
   ]
  },
  {
   "cell_type": "code",
   "execution_count": 3,
   "metadata": {},
   "outputs": [
    {
     "data": {
      "text/html": [
       "<div>\n",
       "<style scoped>\n",
       "    .dataframe tbody tr th:only-of-type {\n",
       "        vertical-align: middle;\n",
       "    }\n",
       "\n",
       "    .dataframe tbody tr th {\n",
       "        vertical-align: top;\n",
       "    }\n",
       "\n",
       "    .dataframe thead th {\n",
       "        text-align: right;\n",
       "    }\n",
       "</style>\n",
       "<table border=\"1\" class=\"dataframe\">\n",
       "  <thead>\n",
       "    <tr style=\"text-align: right;\">\n",
       "      <th></th>\n",
       "      <th>DESTINATION</th>\n",
       "      <th>FEEDBACK SCORE</th>\n",
       "      <th>AVG HOTEL RATING</th>\n",
       "      <th>NO OF ALL INC HOTELS</th>\n",
       "      <th>MOST VISITED CITY</th>\n",
       "    </tr>\n",
       "  </thead>\n",
       "  <tbody>\n",
       "    <tr>\n",
       "      <th>0</th>\n",
       "      <td>SPAIN</td>\n",
       "      <td>8</td>\n",
       "      <td>3</td>\n",
       "      <td>850</td>\n",
       "      <td>BARCELONA</td>\n",
       "    </tr>\n",
       "    <tr>\n",
       "      <th>1</th>\n",
       "      <td>SPAIN</td>\n",
       "      <td>7</td>\n",
       "      <td>3</td>\n",
       "      <td>610</td>\n",
       "      <td>SAVILLE</td>\n",
       "    </tr>\n",
       "    <tr>\n",
       "      <th>2</th>\n",
       "      <td>FRANCE</td>\n",
       "      <td>9</td>\n",
       "      <td>4</td>\n",
       "      <td>810</td>\n",
       "      <td>PARS</td>\n",
       "    </tr>\n",
       "    <tr>\n",
       "      <th>3</th>\n",
       "      <td>ICELAND</td>\n",
       "      <td>7</td>\n",
       "      <td>3</td>\n",
       "      <td>310</td>\n",
       "      <td>REYKJAVIC</td>\n",
       "    </tr>\n",
       "    <tr>\n",
       "      <th>4</th>\n",
       "      <td>GERMANY</td>\n",
       "      <td>6</td>\n",
       "      <td>3</td>\n",
       "      <td>595</td>\n",
       "      <td>BERLIN</td>\n",
       "    </tr>\n",
       "    <tr>\n",
       "      <th>5</th>\n",
       "      <td>PORTUGAL</td>\n",
       "      <td>8</td>\n",
       "      <td>3</td>\n",
       "      <td>690</td>\n",
       "      <td>LISBON</td>\n",
       "    </tr>\n",
       "    <tr>\n",
       "      <th>6</th>\n",
       "      <td>JAPAN</td>\n",
       "      <td>9</td>\n",
       "      <td>5</td>\n",
       "      <td>795</td>\n",
       "      <td>KYOTO</td>\n",
       "    </tr>\n",
       "    <tr>\n",
       "      <th>7</th>\n",
       "      <td>BALI</td>\n",
       "      <td>9</td>\n",
       "      <td>3</td>\n",
       "      <td>295</td>\n",
       "      <td>KUTA</td>\n",
       "    </tr>\n",
       "    <tr>\n",
       "      <th>8</th>\n",
       "      <td>ITALY</td>\n",
       "      <td>10</td>\n",
       "      <td>3</td>\n",
       "      <td>1495</td>\n",
       "      <td>VENICE</td>\n",
       "    </tr>\n",
       "    <tr>\n",
       "      <th>9</th>\n",
       "      <td>AMERICA</td>\n",
       "      <td>5</td>\n",
       "      <td>4</td>\n",
       "      <td>12696</td>\n",
       "      <td>NEW YORK</td>\n",
       "    </tr>\n",
       "    <tr>\n",
       "      <th>10</th>\n",
       "      <td>AMERICA</td>\n",
       "      <td>7</td>\n",
       "      <td>4</td>\n",
       "      <td>675</td>\n",
       "      <td>SAN FRANCISCO</td>\n",
       "    </tr>\n",
       "    <tr>\n",
       "      <th>11</th>\n",
       "      <td>CROATIA</td>\n",
       "      <td>6</td>\n",
       "      <td>3</td>\n",
       "      <td>400</td>\n",
       "      <td>HVAR</td>\n",
       "    </tr>\n",
       "    <tr>\n",
       "      <th>12</th>\n",
       "      <td>HUNGARY</td>\n",
       "      <td>7</td>\n",
       "      <td>2</td>\n",
       "      <td>595</td>\n",
       "      <td>BUDAPEST</td>\n",
       "    </tr>\n",
       "    <tr>\n",
       "      <th>13</th>\n",
       "      <td>GREAT BRITAIN</td>\n",
       "      <td>5</td>\n",
       "      <td>3</td>\n",
       "      <td>455</td>\n",
       "      <td>EDINBURGH</td>\n",
       "    </tr>\n",
       "  </tbody>\n",
       "</table>\n",
       "</div>"
      ],
      "text/plain": [
       "      DESTINATION  FEEDBACK SCORE  AVG HOTEL RATING  NO OF ALL INC HOTELS  \\\n",
       "0           SPAIN               8                 3                   850   \n",
       "1           SPAIN               7                 3                   610   \n",
       "2          FRANCE               9                 4                   810   \n",
       "3         ICELAND               7                 3                   310   \n",
       "4         GERMANY               6                 3                   595   \n",
       "5        PORTUGAL               8                 3                   690   \n",
       "6           JAPAN               9                 5                   795   \n",
       "7            BALI               9                 3                   295   \n",
       "8           ITALY              10                 3                  1495   \n",
       "9         AMERICA               5                 4                 12696   \n",
       "10        AMERICA               7                 4                   675   \n",
       "11        CROATIA               6                 3                   400   \n",
       "12        HUNGARY               7                 2                   595   \n",
       "13  GREAT BRITAIN               5                 3                   455   \n",
       "\n",
       "   MOST VISITED CITY  \n",
       "0          BARCELONA  \n",
       "1            SAVILLE  \n",
       "2               PARS  \n",
       "3          REYKJAVIC  \n",
       "4             BERLIN  \n",
       "5             LISBON  \n",
       "6              KYOTO  \n",
       "7               KUTA  \n",
       "8             VENICE  \n",
       "9           NEW YORK  \n",
       "10     SAN FRANCISCO  \n",
       "11              HVAR  \n",
       "12          BUDAPEST  \n",
       "13         EDINBURGH  "
      ]
     },
     "execution_count": 3,
     "metadata": {},
     "output_type": "execute_result"
    }
   ],
   "source": [
    "holiday_file"
   ]
  },
  {
   "cell_type": "code",
   "execution_count": null,
   "metadata": {},
   "outputs": [],
   "source": [
    "#Q1 - how many rows and columns are there in your file?\n",
    "holiday_file.shape"
   ]
  },
  {
   "cell_type": "code",
   "execution_count": null,
   "metadata": {},
   "outputs": [],
   "source": [
    "#Q2 - print row 3-8 (using loc/iloc)\n",
    "holiday_file.iloc[3:9]"
   ]
  },
  {
   "cell_type": "code",
   "execution_count": 4,
   "metadata": {},
   "outputs": [
    {
     "data": {
      "text/plain": [
       "1519.357142857143"
      ]
     },
     "execution_count": 4,
     "metadata": {},
     "output_type": "execute_result"
    }
   ],
   "source": [
    "#Q3 - find the mean number of all inclusive hotels across all destinations\n",
    "holiday_file[\"NO OF ALL INC HOTELS\"].mean()"
   ]
  },
  {
   "cell_type": "code",
   "execution_count": 5,
   "metadata": {},
   "outputs": [
    {
     "name": "stdout",
     "output_type": "stream",
     "text": [
      "Destinations with lowest score:\n"
     ]
    },
    {
     "data": {
      "text/html": [
       "<div>\n",
       "<style scoped>\n",
       "    .dataframe tbody tr th:only-of-type {\n",
       "        vertical-align: middle;\n",
       "    }\n",
       "\n",
       "    .dataframe tbody tr th {\n",
       "        vertical-align: top;\n",
       "    }\n",
       "\n",
       "    .dataframe thead th {\n",
       "        text-align: right;\n",
       "    }\n",
       "</style>\n",
       "<table border=\"1\" class=\"dataframe\">\n",
       "  <thead>\n",
       "    <tr style=\"text-align: right;\">\n",
       "      <th></th>\n",
       "      <th>DESTINATION</th>\n",
       "      <th>FEEDBACK SCORE</th>\n",
       "      <th>AVG HOTEL RATING</th>\n",
       "      <th>NO OF ALL INC HOTELS</th>\n",
       "      <th>MOST VISITED CITY</th>\n",
       "    </tr>\n",
       "  </thead>\n",
       "  <tbody>\n",
       "    <tr>\n",
       "      <th>9</th>\n",
       "      <td>AMERICA</td>\n",
       "      <td>5</td>\n",
       "      <td>4</td>\n",
       "      <td>12696</td>\n",
       "      <td>NEW YORK</td>\n",
       "    </tr>\n",
       "    <tr>\n",
       "      <th>13</th>\n",
       "      <td>GREAT BRITAIN</td>\n",
       "      <td>5</td>\n",
       "      <td>3</td>\n",
       "      <td>455</td>\n",
       "      <td>EDINBURGH</td>\n",
       "    </tr>\n",
       "  </tbody>\n",
       "</table>\n",
       "</div>"
      ],
      "text/plain": [
       "      DESTINATION  FEEDBACK SCORE  AVG HOTEL RATING  NO OF ALL INC HOTELS  \\\n",
       "9         AMERICA               5                 4                 12696   \n",
       "13  GREAT BRITAIN               5                 3                   455   \n",
       "\n",
       "   MOST VISITED CITY  \n",
       "9           NEW YORK  \n",
       "13         EDINBURGH  "
      ]
     },
     "execution_count": 5,
     "metadata": {},
     "output_type": "execute_result"
    }
   ],
   "source": [
    "#Q4 - find the lowest scoring destination\n",
    "min_filter = holiday_file[\"FEEDBACK SCORE\"] == holiday_file[\"FEEDBACK SCORE\"].min()\n",
    "\n",
    "print(\"Destinations with lowest score:\")\n",
    "holiday_file[min_filter]"
   ]
  },
  {
   "cell_type": "code",
   "execution_count": 7,
   "metadata": {},
   "outputs": [
    {
     "name": "stdout",
     "output_type": "stream",
     "text": [
      "Destinations with lowest score:\n"
     ]
    },
    {
     "data": {
      "text/html": [
       "<div>\n",
       "<style scoped>\n",
       "    .dataframe tbody tr th:only-of-type {\n",
       "        vertical-align: middle;\n",
       "    }\n",
       "\n",
       "    .dataframe tbody tr th {\n",
       "        vertical-align: top;\n",
       "    }\n",
       "\n",
       "    .dataframe thead th {\n",
       "        text-align: right;\n",
       "    }\n",
       "</style>\n",
       "<table border=\"1\" class=\"dataframe\">\n",
       "  <thead>\n",
       "    <tr style=\"text-align: right;\">\n",
       "      <th></th>\n",
       "      <th>DESTINATION</th>\n",
       "      <th>FEEDBACK SCORE</th>\n",
       "      <th>AVG HOTEL RATING</th>\n",
       "      <th>NO OF ALL INC HOTELS</th>\n",
       "      <th>MOST VISITED CITY</th>\n",
       "    </tr>\n",
       "  </thead>\n",
       "  <tbody>\n",
       "    <tr>\n",
       "      <th>8</th>\n",
       "      <td>ITALY</td>\n",
       "      <td>10</td>\n",
       "      <td>3</td>\n",
       "      <td>1495</td>\n",
       "      <td>VENICE</td>\n",
       "    </tr>\n",
       "  </tbody>\n",
       "</table>\n",
       "</div>"
      ],
      "text/plain": [
       "  DESTINATION  FEEDBACK SCORE  AVG HOTEL RATING  NO OF ALL INC HOTELS  \\\n",
       "8       ITALY              10                 3                  1495   \n",
       "\n",
       "  MOST VISITED CITY  \n",
       "8            VENICE  "
      ]
     },
     "execution_count": 7,
     "metadata": {},
     "output_type": "execute_result"
    }
   ],
   "source": [
    "#Q5 - find the highest scoring desitination\n",
    "max_filter = holiday_file[\"FEEDBACK SCORE\"] == holiday_file[\"FEEDBACK SCORE\"].max()\n",
    "\n",
    "print(\"Destinations with lowest score:\")\n",
    "holiday_file[max_filter]"
   ]
  },
  {
   "cell_type": "code",
   "execution_count": 8,
   "metadata": {},
   "outputs": [
    {
     "data": {
      "text/html": [
       "<div>\n",
       "<style scoped>\n",
       "    .dataframe tbody tr th:only-of-type {\n",
       "        vertical-align: middle;\n",
       "    }\n",
       "\n",
       "    .dataframe tbody tr th {\n",
       "        vertical-align: top;\n",
       "    }\n",
       "\n",
       "    .dataframe thead th {\n",
       "        text-align: right;\n",
       "    }\n",
       "</style>\n",
       "<table border=\"1\" class=\"dataframe\">\n",
       "  <thead>\n",
       "    <tr style=\"text-align: right;\">\n",
       "      <th></th>\n",
       "      <th>DESTINATION</th>\n",
       "      <th>FEEDBACK SCORE</th>\n",
       "      <th>AVG HOTEL RATING</th>\n",
       "      <th>NO OF ALL INC HOTELS</th>\n",
       "      <th>MOST VISITED CITY</th>\n",
       "    </tr>\n",
       "  </thead>\n",
       "  <tbody>\n",
       "    <tr>\n",
       "      <th>0</th>\n",
       "      <td>SPAIN</td>\n",
       "      <td>8</td>\n",
       "      <td>3</td>\n",
       "      <td>850</td>\n",
       "      <td>BARCELONA</td>\n",
       "    </tr>\n",
       "    <tr>\n",
       "      <th>1</th>\n",
       "      <td>SPAIN</td>\n",
       "      <td>7</td>\n",
       "      <td>3</td>\n",
       "      <td>610</td>\n",
       "      <td>SAVILLE</td>\n",
       "    </tr>\n",
       "    <tr>\n",
       "      <th>2</th>\n",
       "      <td>FRANCE</td>\n",
       "      <td>9</td>\n",
       "      <td>4</td>\n",
       "      <td>810</td>\n",
       "      <td>PARS</td>\n",
       "    </tr>\n",
       "    <tr>\n",
       "      <th>5</th>\n",
       "      <td>PORTUGAL</td>\n",
       "      <td>8</td>\n",
       "      <td>3</td>\n",
       "      <td>690</td>\n",
       "      <td>LISBON</td>\n",
       "    </tr>\n",
       "    <tr>\n",
       "      <th>6</th>\n",
       "      <td>JAPAN</td>\n",
       "      <td>9</td>\n",
       "      <td>5</td>\n",
       "      <td>795</td>\n",
       "      <td>KYOTO</td>\n",
       "    </tr>\n",
       "    <tr>\n",
       "      <th>8</th>\n",
       "      <td>ITALY</td>\n",
       "      <td>10</td>\n",
       "      <td>3</td>\n",
       "      <td>1495</td>\n",
       "      <td>VENICE</td>\n",
       "    </tr>\n",
       "    <tr>\n",
       "      <th>9</th>\n",
       "      <td>AMERICA</td>\n",
       "      <td>5</td>\n",
       "      <td>4</td>\n",
       "      <td>12696</td>\n",
       "      <td>NEW YORK</td>\n",
       "    </tr>\n",
       "    <tr>\n",
       "      <th>10</th>\n",
       "      <td>AMERICA</td>\n",
       "      <td>7</td>\n",
       "      <td>4</td>\n",
       "      <td>675</td>\n",
       "      <td>SAN FRANCISCO</td>\n",
       "    </tr>\n",
       "  </tbody>\n",
       "</table>\n",
       "</div>"
      ],
      "text/plain": [
       "   DESTINATION  FEEDBACK SCORE  AVG HOTEL RATING  NO OF ALL INC HOTELS  \\\n",
       "0        SPAIN               8                 3                   850   \n",
       "1        SPAIN               7                 3                   610   \n",
       "2       FRANCE               9                 4                   810   \n",
       "5     PORTUGAL               8                 3                   690   \n",
       "6        JAPAN               9                 5                   795   \n",
       "8        ITALY              10                 3                  1495   \n",
       "9      AMERICA               5                 4                 12696   \n",
       "10     AMERICA               7                 4                   675   \n",
       "\n",
       "   MOST VISITED CITY  \n",
       "0          BARCELONA  \n",
       "1            SAVILLE  \n",
       "2               PARS  \n",
       "5             LISBON  \n",
       "6              KYOTO  \n",
       "8             VENICE  \n",
       "9           NEW YORK  \n",
       "10     SAN FRANCISCO  "
      ]
     },
     "execution_count": 8,
     "metadata": {},
     "output_type": "execute_result"
    }
   ],
   "source": [
    "#Q6 - find the destinations that have more than 600 all-inclusive hotels\n",
    "num_hotels_filter = holiday_file[\"NO OF ALL INC HOTELS\"] > 600\n",
    "holiday_file[num_hotels_filter]"
   ]
  },
  {
   "cell_type": "code",
   "execution_count": 9,
   "metadata": {},
   "outputs": [
    {
     "name": "stdout",
     "output_type": "stream",
     "text": [
      "Destinations with score over 8:\n"
     ]
    },
    {
     "data": {
      "text/html": [
       "<div>\n",
       "<style scoped>\n",
       "    .dataframe tbody tr th:only-of-type {\n",
       "        vertical-align: middle;\n",
       "    }\n",
       "\n",
       "    .dataframe tbody tr th {\n",
       "        vertical-align: top;\n",
       "    }\n",
       "\n",
       "    .dataframe thead th {\n",
       "        text-align: right;\n",
       "    }\n",
       "</style>\n",
       "<table border=\"1\" class=\"dataframe\">\n",
       "  <thead>\n",
       "    <tr style=\"text-align: right;\">\n",
       "      <th></th>\n",
       "      <th>DESTINATION</th>\n",
       "      <th>FEEDBACK SCORE</th>\n",
       "      <th>AVG HOTEL RATING</th>\n",
       "      <th>NO OF ALL INC HOTELS</th>\n",
       "      <th>MOST VISITED CITY</th>\n",
       "    </tr>\n",
       "  </thead>\n",
       "  <tbody>\n",
       "    <tr>\n",
       "      <th>2</th>\n",
       "      <td>FRANCE</td>\n",
       "      <td>9</td>\n",
       "      <td>4</td>\n",
       "      <td>810</td>\n",
       "      <td>PARS</td>\n",
       "    </tr>\n",
       "    <tr>\n",
       "      <th>6</th>\n",
       "      <td>JAPAN</td>\n",
       "      <td>9</td>\n",
       "      <td>5</td>\n",
       "      <td>795</td>\n",
       "      <td>KYOTO</td>\n",
       "    </tr>\n",
       "    <tr>\n",
       "      <th>7</th>\n",
       "      <td>BALI</td>\n",
       "      <td>9</td>\n",
       "      <td>3</td>\n",
       "      <td>295</td>\n",
       "      <td>KUTA</td>\n",
       "    </tr>\n",
       "    <tr>\n",
       "      <th>8</th>\n",
       "      <td>ITALY</td>\n",
       "      <td>10</td>\n",
       "      <td>3</td>\n",
       "      <td>1495</td>\n",
       "      <td>VENICE</td>\n",
       "    </tr>\n",
       "  </tbody>\n",
       "</table>\n",
       "</div>"
      ],
      "text/plain": [
       "  DESTINATION  FEEDBACK SCORE  AVG HOTEL RATING  NO OF ALL INC HOTELS  \\\n",
       "2      FRANCE               9                 4                   810   \n",
       "6       JAPAN               9                 5                   795   \n",
       "7        BALI               9                 3                   295   \n",
       "8       ITALY              10                 3                  1495   \n",
       "\n",
       "  MOST VISITED CITY  \n",
       "2              PARS  \n",
       "6             KYOTO  \n",
       "7              KUTA  \n",
       "8            VENICE  "
      ]
     },
     "execution_count": 9,
     "metadata": {},
     "output_type": "execute_result"
    }
   ],
   "source": [
    "#Q7 - filter by score above 8\n",
    "score_filter = holiday_file[\"FEEDBACK SCORE\"] > 8\n",
    "\n",
    "print(\"Destinations with score over 8:\")\n",
    "holiday_file[score_filter]"
   ]
  },
  {
   "cell_type": "code",
   "execution_count": 10,
   "metadata": {},
   "outputs": [
    {
     "name": "stdout",
     "output_type": "stream",
     "text": [
      "Destinations with score less than 2:\n"
     ]
    },
    {
     "data": {
      "text/html": [
       "<div>\n",
       "<style scoped>\n",
       "    .dataframe tbody tr th:only-of-type {\n",
       "        vertical-align: middle;\n",
       "    }\n",
       "\n",
       "    .dataframe tbody tr th {\n",
       "        vertical-align: top;\n",
       "    }\n",
       "\n",
       "    .dataframe thead th {\n",
       "        text-align: right;\n",
       "    }\n",
       "</style>\n",
       "<table border=\"1\" class=\"dataframe\">\n",
       "  <thead>\n",
       "    <tr style=\"text-align: right;\">\n",
       "      <th></th>\n",
       "      <th>DESTINATION</th>\n",
       "      <th>FEEDBACK SCORE</th>\n",
       "      <th>AVG HOTEL RATING</th>\n",
       "      <th>NO OF ALL INC HOTELS</th>\n",
       "      <th>MOST VISITED CITY</th>\n",
       "    </tr>\n",
       "  </thead>\n",
       "  <tbody>\n",
       "  </tbody>\n",
       "</table>\n",
       "</div>"
      ],
      "text/plain": [
       "Empty DataFrame\n",
       "Columns: [DESTINATION, FEEDBACK SCORE, AVG HOTEL RATING, NO OF ALL INC HOTELS, MOST VISITED CITY]\n",
       "Index: []"
      ]
     },
     "execution_count": 10,
     "metadata": {},
     "output_type": "execute_result"
    }
   ],
   "source": [
    "#Q8 - filter by score below 2 \n",
    "\n",
    "score_filter = holiday_file[\"FEEDBACK SCORE\"] < 2\n",
    "\n",
    "print(\"Destinations with score less than 2:\")\n",
    "holiday_file[score_filter]"
   ]
  },
  {
   "cell_type": "code",
   "execution_count": 11,
   "metadata": {},
   "outputs": [
    {
     "data": {
      "text/html": [
       "<div>\n",
       "<style scoped>\n",
       "    .dataframe tbody tr th:only-of-type {\n",
       "        vertical-align: middle;\n",
       "    }\n",
       "\n",
       "    .dataframe tbody tr th {\n",
       "        vertical-align: top;\n",
       "    }\n",
       "\n",
       "    .dataframe thead th {\n",
       "        text-align: right;\n",
       "    }\n",
       "</style>\n",
       "<table border=\"1\" class=\"dataframe\">\n",
       "  <thead>\n",
       "    <tr style=\"text-align: right;\">\n",
       "      <th></th>\n",
       "      <th>FEEDBACK SCORE</th>\n",
       "      <th>NO OF ALL INC HOTELS</th>\n",
       "    </tr>\n",
       "  </thead>\n",
       "  <tbody>\n",
       "    <tr>\n",
       "      <th>FEEDBACK SCORE</th>\n",
       "      <td>1.000000</td>\n",
       "      <td>-0.385214</td>\n",
       "    </tr>\n",
       "    <tr>\n",
       "      <th>NO OF ALL INC HOTELS</th>\n",
       "      <td>-0.385214</td>\n",
       "      <td>1.000000</td>\n",
       "    </tr>\n",
       "  </tbody>\n",
       "</table>\n",
       "</div>"
      ],
      "text/plain": [
       "                      FEEDBACK SCORE  NO OF ALL INC HOTELS\n",
       "FEEDBACK SCORE              1.000000             -0.385214\n",
       "NO OF ALL INC HOTELS       -0.385214              1.000000"
      ]
     },
     "execution_count": 11,
     "metadata": {},
     "output_type": "execute_result"
    }
   ],
   "source": [
    "#Q9 - is there a correlation between number of all-inclusive hotels and score?\n",
    "# Extract the columns we're interested in\n",
    "data = holiday_file[[\"FEEDBACK SCORE\", \"NO OF ALL INC HOTELS\"]]\n",
    "\n",
    "# Display correlation\n",
    "data.corr()\n",
    "\n",
    "# Correlation is the measure of the statistical relationship, or association, between two variables. \n",
    "# Degree of correlation guideline\n",
    "#    Perfect: If the value is near ± 1, then it is said to be a perfect correlation - as one variable increases, the other variable tends to also increase (if positive) or decrease (if negative).\n",
    "#    High degree: If the value lies between ± 0.50 and ± 1, then it is said to be a strong correlation.\n",
    "#    Moderate degree: If the value lies between ± 0.30 and ± 0.49, then it is said to be a medium correlation.\n",
    "#    Low degree: When the value lies below ± .29, then it is said to be a small correlation.\n"
   ]
  },
  {
   "cell_type": "code",
   "execution_count": 22,
   "metadata": {},
   "outputs": [
    {
     "ename": "KeyError",
     "evalue": "\"None of ['DESTINATION'] are in the columns\"",
     "output_type": "error",
     "traceback": [
      "\u001b[0;31m---------------------------------------------------------------------------\u001b[0m",
      "\u001b[0;31mKeyError\u001b[0m                                  Traceback (most recent call last)",
      "\u001b[0;32m/var/folders/zv/1btfrys54cz8mhq_zsqlk8pm0000gn/T/ipykernel_1360/3230239090.py\u001b[0m in \u001b[0;36m<module>\u001b[0;34m\u001b[0m\n\u001b[1;32m      1\u001b[0m \u001b[0;31m#Q10 - create visualisation diagram to show destination and scores\u001b[0m\u001b[0;34m\u001b[0m\u001b[0;34m\u001b[0m\u001b[0m\n\u001b[0;32m----> 2\u001b[0;31m \u001b[0mholiday_file\u001b[0m\u001b[0;34m.\u001b[0m\u001b[0mset_index\u001b[0m\u001b[0;34m(\u001b[0m\u001b[0;34m\"DESTINATION\"\u001b[0m\u001b[0;34m,\u001b[0m \u001b[0minplace\u001b[0m \u001b[0;34m=\u001b[0m \u001b[0;32mTrue\u001b[0m\u001b[0;34m)\u001b[0m\u001b[0;34m\u001b[0m\u001b[0;34m\u001b[0m\u001b[0m\n\u001b[0m\u001b[1;32m      3\u001b[0m \u001b[0mholiday_file\u001b[0m\u001b[0;34m.\u001b[0m\u001b[0mplot\u001b[0m\u001b[0;34m.\u001b[0m\u001b[0mbar\u001b[0m\u001b[0;34m(\u001b[0m\u001b[0my\u001b[0m\u001b[0;34m=\u001b[0m\u001b[0;34m\"FEEDBACK SCORE\"\u001b[0m\u001b[0;34m)\u001b[0m\u001b[0;34m\u001b[0m\u001b[0;34m\u001b[0m\u001b[0m\n",
      "\u001b[0;32m/Library/Frameworks/Python.framework/Versions/3.10/lib/python3.10/site-packages/pandas/util/_decorators.py\u001b[0m in \u001b[0;36mwrapper\u001b[0;34m(*args, **kwargs)\u001b[0m\n\u001b[1;32m    309\u001b[0m                     \u001b[0mstacklevel\u001b[0m\u001b[0;34m=\u001b[0m\u001b[0mstacklevel\u001b[0m\u001b[0;34m,\u001b[0m\u001b[0;34m\u001b[0m\u001b[0;34m\u001b[0m\u001b[0m\n\u001b[1;32m    310\u001b[0m                 )\n\u001b[0;32m--> 311\u001b[0;31m             \u001b[0;32mreturn\u001b[0m \u001b[0mfunc\u001b[0m\u001b[0;34m(\u001b[0m\u001b[0;34m*\u001b[0m\u001b[0margs\u001b[0m\u001b[0;34m,\u001b[0m \u001b[0;34m**\u001b[0m\u001b[0mkwargs\u001b[0m\u001b[0;34m)\u001b[0m\u001b[0;34m\u001b[0m\u001b[0;34m\u001b[0m\u001b[0m\n\u001b[0m\u001b[1;32m    312\u001b[0m \u001b[0;34m\u001b[0m\u001b[0m\n\u001b[1;32m    313\u001b[0m         \u001b[0;32mreturn\u001b[0m \u001b[0mwrapper\u001b[0m\u001b[0;34m\u001b[0m\u001b[0;34m\u001b[0m\u001b[0m\n",
      "\u001b[0;32m/Library/Frameworks/Python.framework/Versions/3.10/lib/python3.10/site-packages/pandas/core/frame.py\u001b[0m in \u001b[0;36mset_index\u001b[0;34m(self, keys, drop, append, inplace, verify_integrity)\u001b[0m\n\u001b[1;32m   5449\u001b[0m \u001b[0;34m\u001b[0m\u001b[0m\n\u001b[1;32m   5450\u001b[0m         \u001b[0;32mif\u001b[0m \u001b[0mmissing\u001b[0m\u001b[0;34m:\u001b[0m\u001b[0;34m\u001b[0m\u001b[0;34m\u001b[0m\u001b[0m\n\u001b[0;32m-> 5451\u001b[0;31m             \u001b[0;32mraise\u001b[0m \u001b[0mKeyError\u001b[0m\u001b[0;34m(\u001b[0m\u001b[0;34mf\"None of {missing} are in the columns\"\u001b[0m\u001b[0;34m)\u001b[0m\u001b[0;34m\u001b[0m\u001b[0;34m\u001b[0m\u001b[0m\n\u001b[0m\u001b[1;32m   5452\u001b[0m \u001b[0;34m\u001b[0m\u001b[0m\n\u001b[1;32m   5453\u001b[0m         \u001b[0;32mif\u001b[0m \u001b[0minplace\u001b[0m\u001b[0;34m:\u001b[0m\u001b[0;34m\u001b[0m\u001b[0;34m\u001b[0m\u001b[0m\n",
      "\u001b[0;31mKeyError\u001b[0m: \"None of ['DESTINATION'] are in the columns\""
     ]
    }
   ],
   "source": [
    "#Q10 - create visualisation diagram to show destination and scores \n",
    "holiday_file.set_index(\"DESTINATION\", inplace = True)\n",
    "holiday_file.plot.bar(y=\"FEEDBACK SCORE\")"
   ]
  },
  {
   "cell_type": "code",
   "execution_count": 24,
   "metadata": {},
   "outputs": [
    {
     "ename": "ModuleNotFoundError",
     "evalue": "No module named 'matplotlib'",
     "output_type": "error",
     "traceback": [
      "\u001b[0;31m---------------------------------------------------------------------------\u001b[0m",
      "\u001b[0;31mModuleNotFoundError\u001b[0m                       Traceback (most recent call last)",
      "\u001b[0;32m/var/folders/zv/1btfrys54cz8mhq_zsqlk8pm0000gn/T/ipykernel_1360/767792941.py\u001b[0m in \u001b[0;36m<module>\u001b[0;34m\u001b[0m\n\u001b[0;32m----> 1\u001b[0;31m \u001b[0;32mimport\u001b[0m  \u001b[0mmatplotlib\u001b[0m\u001b[0;34m\u001b[0m\u001b[0;34m\u001b[0m\u001b[0m\n\u001b[0m\u001b[1;32m      2\u001b[0m \u001b[0;34m\u001b[0m\u001b[0m\n\u001b[1;32m      3\u001b[0m \u001b[0mholiday_file\u001b[0m\u001b[0;34m.\u001b[0m\u001b[0mgroupby\u001b[0m\u001b[0;34m(\u001b[0m\u001b[0;34m[\u001b[0m\u001b[0;34m\"Destination\"\u001b[0m\u001b[0;34m]\u001b[0m\u001b[0;34m)\u001b[0m\u001b[0;34m.\u001b[0m\u001b[0msum\u001b[0m\u001b[0;34m(\u001b[0m\u001b[0;34m)\u001b[0m\u001b[0;34m.\u001b[0m\u001b[0mplot\u001b[0m\u001b[0;34m.\u001b[0m\u001b[0mpie\u001b[0m\u001b[0;34m(\u001b[0m\u001b[0my\u001b[0m\u001b[0;34m=\u001b[0m\u001b[0;34m'No of all inc hotels'\u001b[0m\u001b[0;34m,\u001b[0m \u001b[0mfigsize\u001b[0m\u001b[0;34m=\u001b[0m\u001b[0;34m(\u001b[0m\u001b[0;36m8\u001b[0m\u001b[0;34m,\u001b[0m\u001b[0;36m8\u001b[0m\u001b[0;34m)\u001b[0m\u001b[0;34m)\u001b[0m\u001b[0;34m\u001b[0m\u001b[0;34m\u001b[0m\u001b[0m\n",
      "\u001b[0;31mModuleNotFoundError\u001b[0m: No module named 'matplotlib'"
     ]
    }
   ],
   "source": [
    "import  matplotlib \n",
    "\n",
    "holiday_file.groupby([\"Destination\"]).sum().plot.pie(y='No of all inc hotels', figsize=(8,8))"
   ]
  }
 ],
 "metadata": {
  "interpreter": {
   "hash": "aee8b7b246df8f9039afb4144a1f6fd8d2ca17a180786b69acc140d282b71a49"
  },
  "kernelspec": {
   "display_name": "Python 3.7.9 64-bit",
   "language": "python",
   "name": "python3"
  },
  "language_info": {
   "codemirror_mode": {
    "name": "ipython",
    "version": 3
   },
   "file_extension": ".py",
   "mimetype": "text/x-python",
   "name": "python",
   "nbconvert_exporter": "python",
   "pygments_lexer": "ipython3",
   "version": "3.10.0"
  },
  "metadata": {
   "interpreter": {
    "hash": "636e299b37111d97eea3fe2d7ed37df9e8f924b86b1cc77d19ac23f8364ffe29"
   }
  },
  "orig_nbformat": 2
 },
 "nbformat": 4,
 "nbformat_minor": 2
}

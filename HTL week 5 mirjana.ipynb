{
 "cells": [
  {
   "cell_type": "code",
   "execution_count": null,
   "metadata": {},
   "outputs": [],
   "source": [
    "Create a CSV file of, 15 holiday destinations for a website\n",
    "1. Add in a column of destinations\n",
    "'2. Add in a column that shows feedback scoe out of 10 for that destination'\n",
    "'3. Add in a column for average hotel star rating for those destinations'\n",
    "'4. Add in a coulmn for number of all inclusive hotels within each destination'\n",
    "'5. Add in the most visited city in each destination'\n",
    "\n",
    "import pandas as pd\n",
    "Create a CSV file of 15 holiday destination for a website\n",
    "\n",
    "Data = pd.DataFrame(\n",
    "    {'Destination': ['Maldives','Bali','Barcelona','Lisbon','Athens','Saville','Thailand','Rome','Venice','Monaco','Malta','New York','Las Angeles','Berlin','Budapest','San Sebastian'],\n",
    "      'FeedbackScore':[4,7,3,7,7,3,7,9,6,9,5,8,2,7,8],\n",
    "      'AverageHotelRating':[1,2,3,4,5,1,2,3,4,5,1,2,3,4,5],\n",
    "      'AllInclusiveHotelCount':[20,19,30,20,54,28,92,1,1,43,2,6,7,5,4],\n",
    "      'MostVisiteDestination':['Destination1','Destination2','Destination3','Destination4','Destination5','Destaintion6','Destination7','Destantion8','Destination9,','Destination10','Destination11','Destination12','Destination13','Destination14','Destination15']}\n",
    "\n",
    "display(Data)\n",
    "file = Data.to_csv('15HolidayDestinations.cvs', index=False)\n",
    "\n"
   ]
  },
  {
   "cell_type": "code",
   "execution_count": null,
   "metadata": {},
   "outputs": [],
   "source": [
    "import pandas as pd\n",
    "\n",
    "holiday_des = pd.read_csv('HolidayDestination.csv')\n",
    "print(holiday_des)\n",
    "Destinations     Destination Rate    Average Hotel Rate    AllinclusiveHotelsMostvisited city\n",
    "1  Maldives                     4                     1                     20\n",
    "2  Bali                         7                     2                     19\n",
    "3  Barcelona                    3                     3                     30\n",
    "4  Lisbon                       7                     4                     20\n",
    "5  Athens                       7                     5                     54\n",
    "6  Saville                      3                     1                     28\n",
    "7  Thailand                     7                     2                     92\n",
    "8  Rome                         9                     3                      1\n",
    "9  Venice                       6                     4                      1\n",
    "10 Monaco                       9                     5                     43\n",
    "11 Malta                        5                     1                      2\n",
    "12 New York                     8                     2                      6\n",
    "13 Las Angeles                  2                     3                      7               \n",
    "14 Berlin                       7                     4                      5\n",
    "15 Budapest                     8                     5                      4\n",
    "\n",
    "\n",
    "\n",
    "\n",
    "\n",
    "        "
   ]
  },
  {
   "cell_type": "code",
   "execution_count": null,
   "metadata": {},
   "outputs": [],
   "source": [
    "1. How many rows and columns are there in your file?\n",
    "2. Print row 3 8 ( using iloc loc)"
   ]
  }
 ],
 "metadata": {
  "interpreter": {
   "hash": "aee8b7b246df8f9039afb4144a1f6fd8d2ca17a180786b69acc140d282b71a49"
  },
  "kernelspec": {
   "display_name": "Python 3.10.0 64-bit",
   "language": "python",
   "name": "python3"
  },
  "language_info": {
   "codemirror_mode": {
    "name": "ipython",
    "version": 3
   },
   "file_extension": ".py",
   "mimetype": "text/x-python",
   "name": "python",
   "nbconvert_exporter": "python",
   "pygments_lexer": "ipython3",
   "version": "3.10.0"
  },
  "orig_nbformat": 4
 },
 "nbformat": 4,
 "nbformat_minor": 2
}

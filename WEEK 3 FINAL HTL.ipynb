{
 "cells": [
  {
   "cell_type": "code",
   "execution_count": null,
   "metadata": {},
   "outputs": [],
   "source": [
    "Task 2\n",
    "As an extension to the motorbike task that costs £2000 and loses 10% of its value every ye\n",
    "using a loop, print the value of the bike every following year until it falls below £1000.\n"
   ]
  },
  {
   "cell_type": "code",
   "execution_count": 1,
   "metadata": {},
   "outputs": [],
   "source": [
    "bike_price = 2000\n",
    "bike_dep = 0.90\n",
    "year     = 2021"
   ]
  },
  {
   "cell_type": "code",
   "execution_count": 7,
   "metadata": {},
   "outputs": [],
   "source": [
    "def year_value_reduction(year,price,dep):\n",
    "    while price > 1000:\n",
    "        print(\"Value of the item in the year\" , year,\"is £\",price)\n",
    "        year += 1\n",
    "        price =price * dep\n",
    "    return year ,price"
   ]
  },
  {
   "cell_type": "code",
   "execution_count": 8,
   "metadata": {},
   "outputs": [
    {
     "name": "stdout",
     "output_type": "stream",
     "text": [
      "Value of the item in the year 2021 is £ 2000\n",
      "Value of the item in the year 2022 is £ 1800.0\n",
      "Value of the item in the year 2023 is £ 1620.0\n",
      "Value of the item in the year 2024 is £ 1458.0\n",
      "Value of the item in the year 2025 is £ 1312.2\n",
      "Value of the item in the year 2026 is £ 1180.98\n",
      "Value of the item in the year 2027 is £ 1062.882\n"
     ]
    },
    {
     "data": {
      "text/plain": [
       "(2028, 956.5938000000001)"
      ]
     },
     "execution_count": 8,
     "metadata": {},
     "output_type": "execute_result"
    }
   ],
   "source": [
    "year_value_reduction(year, bike_price, bike_dep)"
   ]
  },
  {
   "cell_type": "code",
   "execution_count": null,
   "metadata": {},
   "outputs": [],
   "source": [
    "Task 3\n",
    "Write a program which will ask for two numbers from a user. Then offer an option menu to the use\n",
    "operator they wish to use, perform the calculation by using a procedure and passing parameters. "
   ]
  },
  {
   "cell_type": "code",
   "execution_count": 1,
   "metadata": {},
   "outputs": [
    {
     "ename": "SyntaxError",
     "evalue": "invalid syntax (2908846575.py, line 10)",
     "output_type": "error",
     "traceback": [
      "\u001b[0;36m  File \u001b[0;32m\"/var/folders/zv/1btfrys54cz8mhq_zsqlk8pm0000gn/T/ipykernel_2823/2908846575.py\"\u001b[0;36m, line \u001b[0;32m10\u001b[0m\n\u001b[0;31m    print(num_1*num_2):\u001b[0m\n\u001b[0m                      ^\u001b[0m\n\u001b[0;31mSyntaxError\u001b[0m\u001b[0;31m:\u001b[0m invalid syntax\n"
     ]
    }
   ],
   "source": [
    "def calculator (num_1,num_2):\n",
    "    menuOption = input(\" Please type the operator you require, a to add, b to subtract,c to divide,d to multyply,e to power, f to floor divide\")\n",
    "if menuOption == 'a':\n",
    "    print(num_1+num_2)\n",
    "elif menuOption == 'b':\n",
    "    print(num_1-num_2)\n",
    "elif menuOption == 'c':\n",
    "    print(num_1/num_2)\n",
    "elif menuOption == 'd':\n",
    "    print(num_1*num_2):\n",
    "elif menuOption == 'e':\n",
    "    print(num_1**num_2):\n",
    "elif menuOption == 'f':\n",
    "    print(num_1 //num_2):\n",
    "else:\n",
    "    print(\"input error please re-enter operator\")"
   ]
  },
  {
   "cell_type": "code",
   "execution_count": 2,
   "metadata": {},
   "outputs": [
    {
     "name": "stdout",
     "output_type": "stream",
     "text": [
      "Hello, please enter two number you would like to calculate\n"
     ]
    }
   ],
   "source": [
    "print (\"Hello, please enter two number you would like to calculate\")\n",
    "number_1 = int(input(\"Please enter your first number\"))\n",
    "number_2 = int(input(\"Please enter your second number\"))"
   ]
  }
 ],
 "metadata": {
  "interpreter": {
   "hash": "aee8b7b246df8f9039afb4144a1f6fd8d2ca17a180786b69acc140d282b71a49"
  },
  "kernelspec": {
   "display_name": "Python 3.10.0 64-bit",
   "language": "python",
   "name": "python3"
  },
  "language_info": {
   "codemirror_mode": {
    "name": "ipython",
    "version": 3
   },
   "file_extension": ".py",
   "mimetype": "text/x-python",
   "name": "python",
   "nbconvert_exporter": "python",
   "pygments_lexer": "ipython3",
   "version": "3.10.0"
  },
  "orig_nbformat": 4
 },
 "nbformat": 4,
 "nbformat_minor": 2
}

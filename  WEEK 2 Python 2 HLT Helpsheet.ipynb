{
 "cells": [
  {
   "cell_type": "markdown",
   "metadata": {},
   "source": [
    "Task 2\n",
    "As an extension to the motorbike task that costs £2000 and loses 10% of its value every year. Set up a function that performs the calculation by passing in parameters. Then using a loop, print the value of the bike every following year until it falls below £1000.\n",
    "\n",
    "Solution\n",
    "1. Outside of the function, Store the value of the bike against a variable\n",
    "2. Define your function and state which parameters you want to pass in\n",
    "3. Set up a return\n",
    "4. Create a while loop which subtracts 10% of the bikes value untill the value reaches £1000\n",
    "5. Call your function and pass in your parameters"
   ]
  },
  {
   "cell_type": "markdown",
   "metadata": {},
   "source": [
    "Task 3\n",
    "Write a program which will ask for two numbers from a user. Then offer an option menu to the user giving them a choice of maths operators. Once the user has selected which operator they wish to use, perform the calculation by using a procedure and passing parameters. \n",
    "\n",
    "Solution\n",
    "\n",
    "\n",
    "1. Ask the user to pick a number\n",
    "2. Ask the user to pick a second number\n",
    "3. Ask the user to pick an operator\n",
    "4. Define your procedure and state your parameters\n",
    "5. Create an IF statement to carry out the math operation using the users choice of numbers and choice of operator\n",
    "6. Call your procedure and pass in the parameters you want to use"
   ]
  },
  {
   "cell_type": "markdown",
   "metadata": {},
   "source": [
    "Still stuck after using the above tips? See the below examples.\n",
    "\n",
    "In the folling examples for the HLT, in the <> insert the correct code to solve the solutions."
   ]
  },
  {
   "cell_type": "markdown",
   "metadata": {},
   "source": [
    "Task 2\n",
    "As an extension to the motorbike task that costs £2000 and loses 10% of its value every year. Set up a function that performs the calculation by passing in parameters. Then using a loop, print the value of the bike every following year until it falls below £1000."
   ]
  },
  {
   "cell_type": "code",
   "execution_count": null,
   "metadata": {},
   "outputs": [],
   "source": [
    "bike_price = 25000\n",
    "year      = 2021\n",
    "\n",
    "def function_name(<state parameters>):\n",
    "    while bike_value <insert a logical operator to specify a condition> :\n",
    "        print(\"The bike is worth:\", bike_value)\n",
    "        bike_value <insert calculation to subtract 10%>\n",
    "    <insert return value>\n",
    "\n",
    "function_name(<pass in parameters>)"
   ]
  },
  {
   "cell_type": "code",
   "execution_count": 10,
   "metadata": {},
   "outputs": [],
   "source": [
    "bike_price = 25000\n",
    "year = 2021\n",
    "def function_name (float ) : Literal[2000]\n",
    "while bike_price > 25000:\n",
    "        print(\"The bike is worth:\", bike_price)\n",
    "        bike_price *=0.90\n",
    "\n"
   ]
  },
  {
   "cell_type": "markdown",
   "metadata": {},
   "source": [
    "Task 3\n",
    "Write a program which will ask for two numbers from a user. Then offer an option menu to the user giving them a choice of maths operators. Once the user has selected which operator they wish to use, perform the calculation by using a procedure and passing parameters."
   ]
  },
  {
   "cell_type": "code",
   "execution_count": null,
   "metadata": {},
   "outputs": [],
   "source": [
    "\n",
    "<ask the user to pick a number>\n",
    "<ask the user to pick a second number number>\n",
    "<ask the user to pick a operator> \n",
    "\n",
    "def procedure_2 (1,2):\n",
    "    if sign == <operator choice>:\n",
    "        print( <number 1> + <number 2>)\n",
    "    elif sign == <operator choice>:\n",
    "        print(<number 1> - <number 2>)\n",
    "    elif sign == <operator choice>:\n",
    "        print(<number 1> / <number 2>)\n",
    "    elif sign == <operator choice>:\n",
    "        print(<number 1> * <number 2>)\n",
    "    elif sign == <operator choice>:\n",
    "        print(<number 1> ** <number 2>)\n",
    "    elif sign == <operator choice>:\n",
    "        print(<number 1> % <number 2>)\n",
    "    elif sign == <operator choice>:\n",
    "        print(<number 1> // <number 2>)\n",
    "    else:\n",
    "        print(\"An appropriate operator was not selected!\")\n",
    "\n",
    "procedure_name(<pass in parameters>)"
   ]
  },
  {
   "cell_type": "code",
   "execution_count": 11,
   "metadata": {},
   "outputs": [
    {
     "name": "stdout",
     "output_type": "stream",
     "text": [
      "6\n"
     ]
    }
   ],
   "source": [
    "num_1 = int(input(\"Please pick a number:\"))\n",
    "num_2 = int (input(\"Please pick a second number:\"))\n",
    "sign = input(\"Please enter a operator choice(+,-,/,*,**,%,//): \")\n",
    "\n",
    "def procedure_2  (num_1, num_2):\n",
    "    if sign == \"+\":\n",
    "         print(num_1+num_2)\n",
    "    elif sign == \"-\":\n",
    "        print(num_1-num_2)\n",
    "    elif sign == \"/\":\n",
    "        print(num_1/num_2)\n",
    "    elif sign == \"*\":\n",
    "        print(num_1*num_2)\n",
    "    elif sign == \"**\":\n",
    "        print(num_1**num_2)\n",
    "    elif sign == \"%\":\n",
    "        print(num_1%num_2)\n",
    "    elif sign == \"//\":\n",
    "        print(num_1%num_2)\n",
    "    else:\n",
    "        print(\"An appropriate operator was not selected\")\n",
    "\n",
    "procedure_2(num_1, num_2)\n",
    " "
   ]
  }
 ],
 "metadata": {
  "interpreter": {
   "hash": "aee8b7b246df8f9039afb4144a1f6fd8d2ca17a180786b69acc140d282b71a49"
  },
  "kernelspec": {
   "display_name": "Python 3.10.0 64-bit",
   "language": "python",
   "name": "python3"
  },
  "language_info": {
   "codemirror_mode": {
    "name": "ipython",
    "version": 3
   },
   "file_extension": ".py",
   "mimetype": "text/x-python",
   "name": "python",
   "nbconvert_exporter": "python",
   "pygments_lexer": "ipython3",
   "version": "3.10.0"
  },
  "orig_nbformat": 4
 },
 "nbformat": 4,
 "nbformat_minor": 2
}
